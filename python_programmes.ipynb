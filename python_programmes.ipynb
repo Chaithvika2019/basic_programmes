{
 "cells": [
  {
   "cell_type": "raw",
   "id": "b139cc59",
   "metadata": {},
   "source": [
    "1) What is the best way to debug a Python program?\n",
    "This command can be used to debug a Python program.\n",
    "\n",
    "Python -m pdb Python-script.py "
   ]
  },
  {
   "cell_type": "raw",
   "id": "ac6bf31d",
   "metadata": {},
   "source": [
    "2) What does the Python keyword imply?\n",
    "In Python, we can use the <yield> keyword to convert any Python function into a Python generator.\n",
    "Yields function similarly to a conventional return keyword. However, it will always return a \n",
    "generator object. A function can also use the <yield> keyword multiple times."
   ]
  },
  {
   "cell_type": "code",
   "execution_count": 1,
   "id": "f8aad2de",
   "metadata": {},
   "outputs": [
    {
     "name": "stdout",
     "output_type": "stream",
     "text": [
      "apr jun\n"
     ]
    }
   ],
   "source": [
    "#code\n",
    "\n",
    "def creating_gen(index):  \n",
    "    months = ['jan','feb','mar','apr','may','jun','jul','aug','sep','oct','nov','dec']  \n",
    "    yield months[index]  \n",
    "    yield months[index+2]  \n",
    "next_month = creating_gen(3)  \n",
    "print(next(next_month), next(next_month))  "
   ]
  },
  {
   "cell_type": "raw",
   "id": "82a93782",
   "metadata": {},
   "source": [
    "3) How can I make a tuple out of a list?\n",
    "We can transform a list into a tuple using the Python tuple() method. Since a tuple is immutable,\n",
    "we can't update the list after it has been converted to a tuple."
   ]
  },
  {
   "cell_type": "code",
   "execution_count": 2,
   "id": "f979eb99",
   "metadata": {},
   "outputs": [
    {
     "name": "stdout",
     "output_type": "stream",
     "text": [
      "('jan', 'feb', 'mar', 'apr', 'may', 'jun', 'jul', 'aug', 'sep', 'oct', 'nov', 'dec')\n",
      "<class 'tuple'>\n"
     ]
    }
   ],
   "source": [
    "#Code\n",
    "\n",
    "month = ['jan','feb','mar','apr','may','jun','jul','aug','sep','oct','nov','dec']  \n",
    "converting_list = tuple(month)  \n",
    "print(converting_list)  \n",
    "print(type(converting_list))  "
   ]
  },
  {
   "cell_type": "raw",
   "id": "e8e2b48f",
   "metadata": {},
   "source": [
    "4) In Python, in what ways can you make an empty NumPy array?\n",
    "In Python, there are two ways to build an empty array:"
   ]
  },
  {
   "cell_type": "code",
   "execution_count": 3,
   "id": "0412a459",
   "metadata": {},
   "outputs": [
    {
     "name": "stdout",
     "output_type": "stream",
     "text": [
      "[]\n",
      "[[0.00000000e+000 0.00000000e+000 0.00000000e+000]\n",
      " [0.00000000e+000 0.00000000e+000 7.90505033e-321]\n",
      " [1.30927140e-311 6.05951278e-306 0.00000000e+000]]\n"
     ]
    }
   ],
   "source": [
    "#Code\n",
    "\n",
    "import numpy  \n",
    "#method 1  \n",
    "array_1 = numpy.array([])  \n",
    "print(array_1)  \n",
    "#method 2  \n",
    "array_2 = numpy.empty(shape=(3,3))  \n",
    "print(array_2)  "
   ]
  },
  {
   "cell_type": "code",
   "execution_count": 4,
   "id": "f0d2cd80",
   "metadata": {},
   "outputs": [
    {
     "name": "stdout",
     "output_type": "stream",
     "text": [
      "3\n",
      "6\n",
      "7\n"
     ]
    }
   ],
   "source": [
    "#5) Tell the output of the following code?\n",
    "#Code\n",
    "\n",
    "import array  \n",
    "a = [4, 6, 8, 3, 1, 7]  \n",
    "print(a[-3])  \n",
    "print(a[-5])  \n",
    "print(a[-1])  "
   ]
  },
  {
   "cell_type": "raw",
   "id": "dfb18651",
   "metadata": {},
   "source": [
    "6) How do you print the summation of all the numbers from 1 to 101?\n",
    "Using this program, we can display the summation of all numbers from 1 to 101:\n"
   ]
  },
  {
   "cell_type": "code",
   "execution_count": 5,
   "id": "3f920227",
   "metadata": {},
   "outputs": [
    {
     "data": {
      "text/plain": [
       "<function print>"
      ]
     },
     "execution_count": 5,
     "metadata": {},
     "output_type": "execute_result"
    }
   ],
   "source": [
    "#Code\n",
    "\n",
    "Print=( sum(range(1,102)) )  \n",
    "print"
   ]
  },
  {
   "cell_type": "code",
   "execution_count": 6,
   "id": "98415bc9",
   "metadata": {},
   "outputs": [
    {
     "name": "stdout",
     "output_type": "stream",
     "text": [
      "5151\n"
     ]
    }
   ],
   "source": [
    "print(sum(range(1,102)))"
   ]
  },
  {
   "cell_type": "raw",
   "id": "4c40a5ae",
   "metadata": {},
   "source": [
    "7) In a function, how do you create a global variable?\n",
    "We can create a global variable by designating it as global within every function that assigns\n",
    "to it; we can utilize it in other functions:"
   ]
  },
  {
   "cell_type": "code",
   "execution_count": 7,
   "id": "2dd62830",
   "metadata": {},
   "outputs": [
    {
     "name": "stdout",
     "output_type": "stream",
     "text": [
      "10\n"
     ]
    }
   ],
   "source": [
    "#Code\n",
    "\n",
    "global_var = 0  \n",
    "def modify_global_var():  \n",
    "    global global_var # Setting global_var as a global variable  \n",
    "    global_var = 10  \n",
    "def printing_global_var():  \n",
    "    print(global_var) # There is no need to declare global variable  \n",
    "modify_global_var()  \n",
    "printing_global_var() # Prints 10"
   ]
  },
  {
   "cell_type": "raw",
   "id": "2ede8202",
   "metadata": {},
   "source": [
    "8) Is it possible to build a Python program that reverses a number?\n",
    "Python program to reverse number:"
   ]
  },
  {
   "cell_type": "code",
   "execution_count": 8,
   "id": "8651e2dc",
   "metadata": {},
   "outputs": [
    {
     "name": "stdout",
     "output_type": "stream",
     "text": [
      "Enter number: 09876\n",
      "The reverse of the number: 6789\n"
     ]
    }
   ],
   "source": [
    "#Code\n",
    "\n",
    "n = int(input(\"Enter number: \"))  \n",
    "  \n",
    "reverse = 0  \n",
    "  \n",
    "while(n>0):  \n",
    "    digit = n%10  \n",
    "    reverse = reverse*10+digit  \n",
    "    n=n//10  \n",
    "print(\"The reverse of the number:\",reverse)  \n"
   ]
  },
  {
   "cell_type": "raw",
   "id": "ef3e3077",
   "metadata": {},
   "source": [
    "9) How is a Python Dictionary different from List comprehensions?\n",
    "Dictionary & list comprehensions are yet another means of defining dictionaries and lists in a simple manner.\n",
    "\n",
    "This is example of list comprehension"
   ]
  },
  {
   "cell_type": "code",
   "execution_count": 9,
   "id": "df37111f",
   "metadata": {},
   "outputs": [
    {
     "name": "stdout",
     "output_type": "stream",
     "text": [
      "[0, 1, 2, 3]\n"
     ]
    }
   ],
   "source": [
    "#Code\n",
    "\n",
    "list_comp = [i for i in range(4)]  \n",
    "print(list_comp)  "
   ]
  },
  {
   "cell_type": "code",
   "execution_count": 10,
   "id": "1c49d3ee",
   "metadata": {},
   "outputs": [
    {
     "name": "stdout",
     "output_type": "stream",
     "text": [
      "{0: 2, 1: 3, 2: 4, 3: 5, 4: 6, 5: 7, 6: 8, 7: 9, 8: 10, 9: 11}\n"
     ]
    }
   ],
   "source": [
    "#Code\n",
    "\n",
    "dictt = {i : i+2 for i in range(10)}  \n",
    "print(dictt)   "
   ]
  },
  {
   "cell_type": "raw",
   "id": "9f6be12b",
   "metadata": {},
   "source": [
    "10) How is a local variable different from a global variable?\n",
    "Global Variables: Global variables are those that have been declared outside of a function. The scope outside of the function is known as global space. Any program function has access to these variables.\n",
    "\n",
    "Local Variables: Any variable declared inside a function is referred to as a local variable. This variable does not exist in the global domain; it only exists locally."
   ]
  },
  {
   "cell_type": "code",
   "execution_count": 11,
   "id": "502c343a",
   "metadata": {},
   "outputs": [
    {
     "name": "stdout",
     "output_type": "stream",
     "text": [
      "In local scope:  7\n",
      "Adding a global scope and a local scope variable:  63\n",
      "In global scope:  56\n"
     ]
    }
   ],
   "source": [
    "#Code\n",
    "\n",
    "# Python program to show how global variables and local variables are different  \n",
    "var = 56  \n",
    "# Creating a function  \n",
    "def addition():  \n",
    "    var1 = 7  \n",
    "    c = var + var1  \n",
    "    print(\"In local scope: \", var1)  \n",
    "    print(\"Adding a global scope and a local scope variable: \", c)  \n",
    "addition()  \n",
    "print(\"In global scope: \", var)  "
   ]
  },
  {
   "cell_type": "raw",
   "id": "04953c70",
   "metadata": {},
   "source": [
    "It will generate an error if you attempt to access the local variable exterior of the function addition()."
   ]
  },
  {
   "cell_type": "raw",
   "id": "1a0d9ce0",
   "metadata": {},
   "source": [
    "11) What is the distinction between Python Arrays and Python Lists?\n",
    "In Python, arrays and lists both store data similarly. On the other hand, arrays can only have \n",
    "a single data type element, while lists can contain any data type component."
   ]
  },
  {
   "cell_type": "code",
   "execution_count": 12,
   "id": "96c7b80f",
   "metadata": {},
   "outputs": [
    {
     "name": "stdout",
     "output_type": "stream",
     "text": [
      "array('i', [3, 6, 2, 7, 9, 5])\n",
      "[4, 'Interview', 7.2]\n",
      "an integer is required (got type str)\n"
     ]
    }
   ],
   "source": [
    "#Code\n",
    "\n",
    "# Python program to show the difference between a list and an array  \n",
    "  \n",
    "# Importing array module  \n",
    "import array as arr  \n",
    "  \n",
    "# Creating an array and a list  \n",
    "array_1 = arr.array(\"i\", [3, 6, 2, 7, 9, 5])  \n",
    "list_1 = [4, 'Interview', 7.20]  \n",
    "  \n",
    "print(array_1)  \n",
    "print(list_1)  \n",
    "  \n",
    "# Trying to create an array with multiple data types  \n",
    "try:  \n",
    "    array_2 = arr.array(\"i\", [3, 7, 3, \"Interview\"])  \n",
    "except Exception as e:  \n",
    "    print(e)  "
   ]
  },
  {
   "cell_type": "raw",
   "id": "492a8671",
   "metadata": {},
   "source": [
    "12) What exactly is __init__?\n",
    "In Python, __init__ is a function or function Object() { [native code] }. When a new \n",
    "object/instance of a class is created, this function is automatically called to reserve memory.\n",
    "The __init__ method is available in all classes.\n",
    "\n",
    "Here's an instance of how to put it to good use."
   ]
  },
  {
   "cell_type": "code",
   "execution_count": 13,
   "id": "2ace91ba",
   "metadata": {},
   "outputs": [
    {
     "name": "stdout",
     "output_type": "stream",
     "text": [
      "Itika\n",
      "10\n"
     ]
    }
   ],
   "source": [
    "#Code\n",
    "\n",
    "# Python program to explain __init__  \n",
    "  \n",
    "class Student:  \n",
    "    def __init__(self, st_name, st_class, st_marks):  \n",
    "        self.st_name = st_name  \n",
    "        self.st_class = st_class  \n",
    "        self.st_marks = 67  \n",
    "S1 = Student(\"Itika\", 10, 67)  \n",
    "print(S1.st_name)  \n",
    "print(S1.st_class)  "
   ]
  },
  {
   "cell_type": "raw",
   "id": "8ee65577",
   "metadata": {},
   "source": [
    "13) What is a lambda function, and how does it work?\n",
    "A lambda function is a type of nameless function. This method can take as many parameters as you\n",
    "want but a single statement."
   ]
  },
  {
   "cell_type": "code",
   "execution_count": 14,
   "id": "d3073aef",
   "metadata": {},
   "outputs": [
    {
     "name": "stdout",
     "output_type": "stream",
     "text": [
      "Sum using lambda function is:  18\n"
     ]
    }
   ],
   "source": [
    "#Code\n",
    "\n",
    "# Python program to show how to use lambda functions  \n",
    "  \n",
    "# Creating a lambda function for addition  \n",
    "sum_ = lambda x, y, z : x + y + z  \n",
    "print(\"Sum using lambda function is: \", sum_(4, 6, 8))  "
   ]
  },
  {
   "cell_type": "raw",
   "id": "115b9f5b",
   "metadata": {},
   "source": [
    "14) In Python, how would you randomise the elements of a list while it's running?\n",
    "Consider the following scenario:"
   ]
  },
  {
   "cell_type": "code",
   "execution_count": 15,
   "id": "60a452d8",
   "metadata": {},
   "outputs": [
    {
     "name": "stdout",
     "output_type": "stream",
     "text": [
      "Original list:  ['Python', 'Interview', 'Questions', 'Randomise', 'List']\n",
      "After randomising the list:  ['Python', 'Interview', 'Randomise', 'List', 'Questions']\n"
     ]
    }
   ],
   "source": [
    "#Code\n",
    "\n",
    "# Python program to show to randomise elements of a list  \n",
    "  \n",
    "# Importing the random module  \n",
    "import random  \n",
    "list_ = [\"Python\", \"Interview\", \"Questions\", \"Randomise\", \"List\"]  \n",
    "print(\"Original list: \", list_)  \n",
    "random.shuffle(list_)  \n",
    "print(\"After randomising the list: \", list_) "
   ]
  },
  {
   "cell_type": "raw",
   "id": "5ce4ab81",
   "metadata": {},
   "source": [
    "15) What method will you use to turn the string's all characters into lowercase letters?\n",
    "The lower() function could be used to reduce a string to lowercase."
   ]
  },
  {
   "cell_type": "code",
   "execution_count": 16,
   "id": "ee4cf7db",
   "metadata": {},
   "outputs": [
    {
     "name": "stdout",
     "output_type": "stream",
     "text": [
      "javatpoint\n"
     ]
    }
   ],
   "source": [
    "#Code\n",
    "\n",
    "# Python program to show how to convert a string to lower case  \n",
    "  \n",
    "string = 'JAVATPOINT'  \n",
    "print(string.lower())  "
   ]
  },
  {
   "cell_type": "raw",
   "id": "1686f248",
   "metadata": {},
   "source": [
    "16) In Python, what are docstrings?\n",
    "Docstrings stands for documentation strings, which are not just comments. We enclose the \n",
    "docstrings in triple quotation marks. They are not allocated to any variable, and, as a result,\n",
    "they can also be used as comments."
   ]
  },
  {
   "cell_type": "code",
   "execution_count": 17,
   "id": "d8ca055a",
   "metadata": {},
   "outputs": [
    {
     "name": "stdout",
     "output_type": "stream",
     "text": [
      "Result of multiplication:  1755\n"
     ]
    }
   ],
   "source": [
    "#Code\n",
    "\n",
    "# Python program to show how to write a docstring  \n",
    "  \n",
    "\"\"\" \n",
    "This is a docstring. \n",
    "We write docstrings to explain a program. \n",
    "This program will multiply two numbers and then display the output. \n",
    "\"\"\"  \n",
    "a = 39  \n",
    "b = 45  \n",
    "c = a * b  \n",
    "print(\"Result of multiplication: \", c) "
   ]
  },
  {
   "cell_type": "raw",
   "id": "4b018822",
   "metadata": {},
   "source": [
    "17) What is the best way to add items to a Python array?\n",
    "We can use the append(), extend(), as well as insert (i,x) methods to add items to an array."
   ]
  },
  {
   "cell_type": "code",
   "execution_count": 18,
   "id": "9feb1632",
   "metadata": {},
   "outputs": [
    {
     "name": "stdout",
     "output_type": "stream",
     "text": [
      "array('d', [1.0, 2.0, 3.0, 8.0])\n",
      "array('d', [1.0, 2.0, 3.0, 8.0, 4.0, 6.0, 9.0])\n",
      "array('d', [1.0, 2.0, 9.0, 3.0, 8.0, 4.0, 6.0, 9.0])\n"
     ]
    }
   ],
   "source": [
    "#Code\n",
    "\n",
    "# Python program to show how to add elements to an array  \n",
    "  \n",
    "array = arr.array('d', [1 , 2 ,3] )  \n",
    "array.append(8) # appending will add an element to the end of the array  \n",
    "print(array)  \n",
    "array.extend([4,6,9]) # extending will add elements by looping through the given iterable  \n",
    "print(array)  \n",
    "array.insert(2, 9) # inserting will add the element at the specified index  \n",
    "print(array)  "
   ]
  },
  {
   "cell_type": "raw",
   "id": "ba404f24",
   "metadata": {},
   "source": [
    "18) What is the best way to remove values from a Python array?\n",
    "The pop() or remove() methods can be used to remove array elements. The distinction between \n",
    "these 2 methods is that the first returns the removed value, while the second does not."
   ]
  },
  {
   "cell_type": "code",
   "execution_count": 19,
   "id": "e67feac1",
   "metadata": {},
   "outputs": [
    {
     "name": "stdout",
     "output_type": "stream",
     "text": [
      "4.0\n",
      "8.0\n",
      "array('d', [3.0, 8.0, 1.0, 4.0, 2.0])\n"
     ]
    }
   ],
   "source": [
    "#Code\n",
    "\n",
    "# Python program to show how to remove elements from a Python array  \n",
    "  \n",
    "array = arr.array('d', [1, 3, 8, 1, 4, 8, 2, 4])  \n",
    "print(array.pop()) # By default it will remove and return the last element of the array  \n",
    "print(array.pop(5)) # It will return and remove the element present at 5th index  \n",
    "array.remove(1) # It will remove only the first occurrence of the element - 1 from the array  \n",
    "print(array)  "
   ]
  },
  {
   "cell_type": "raw",
   "id": "0dd8f694",
   "metadata": {},
   "source": [
    "19) In Python, how do you make an empty class?\n",
    "An empty class has no statements contained within its blocks. It can be produced by using the\n",
    "pass keyword. But you can make an object outside the class. The PASS statement doesn't do \n",
    "anything in Python.\n",
    "\n",
    "Code"
   ]
  },
  {
   "cell_type": "code",
   "execution_count": 20,
   "id": "a55ea17a",
   "metadata": {},
   "outputs": [
    {
     "name": "stdout",
     "output_type": "stream",
     "text": [
      "Name =  Javatpoint\n"
     ]
    }
   ],
   "source": [
    "# Python program to show how to make an empty class  \n",
    "  \n",
    "class my_class:  \n",
    "    pass  \n",
    "object_ = my_class()  \n",
    "object_.name = \"Javatpoint\"  \n",
    "print(\"Name = \", object_.name)  "
   ]
  },
  {
   "cell_type": "code",
   "execution_count": 21,
   "id": "d6be00e3",
   "metadata": {},
   "outputs": [
    {
     "name": "stdout",
     "output_type": "stream",
     "text": [
      "The given number is a prime number\n"
     ]
    }
   ],
   "source": [
    "#20) Make a Python script that checks if a given number is prime.\n",
    "#Code\n",
    "\n",
    "# Python program to check if a number is prime or not  \n",
    "  \n",
    "# Declaring a variable  \n",
    "n = 37  \n",
    "if n == 2:  \n",
    "    print(\"2 is a prime number\")  \n",
    "  \n",
    "if n != 1:  \n",
    "    for i in range(2, n):  \n",
    "        if n % i == 0:  \n",
    "            print(\"The given number is a composite number\")  \n",
    "            break  \n",
    "        if i == n-1:  \n",
    "            print(\"The given number is a prime number\")  \n",
    "else:  \n",
    "    print(\"1 is not a prime number\")  "
   ]
  },
  {
   "cell_type": "raw",
   "id": "0fb854d1",
   "metadata": {},
   "source": [
    "21) Write a Python program to determine whether a number is binary.\n",
    "Following is the code."
   ]
  },
  {
   "cell_type": "code",
   "execution_count": null,
   "id": "1c26c6aa",
   "metadata": {},
   "outputs": [],
   "source": [
    "#Code\n",
    "\n",
    "num = 1101001  \n",
    "while(num > 0):  \n",
    "    l = num % 10  \n",
    "     \n",
    "if l!=0 and l!=1:  \n",
    "         \n",
    "    print(\"given number is not binary\")  \n",
    "         \n",
    "break  \n",
    "     \n",
    "num = num // 10  \n",
    "     \n",
    "if num == 0:  \n",
    "         \n",
    "    print(\"given number is binary\")  "
   ]
  },
  {
   "cell_type": "code",
   "execution_count": null,
   "id": "e7f7aa5f",
   "metadata": {},
   "outputs": [],
   "source": [
    "#22) Compute the LCM of two given numbers using Python code.\n",
    "#Following is the code\n",
    "\n",
    "#Code\n",
    "\n",
    "num_1 = 24   \n",
    "num_2 = 92   \n",
    "if num_1 > num_2:    \n",
    "     \n",
    "greater_num = num_1    \n",
    "else:   \n",
    "     \n",
    "greater_num = num_2    \n",
    "while(True):    \n",
    "     \n",
    "if((greater_num % num_1 == 0) and (greater_num % num_2 == 0)):    \n",
    "         \n",
    "lcm = greater_num  \n",
    "         \n",
    "break    \n",
    "     \n",
    "greater_num += 1    \n",
    "print(\"LCM of\", num_1, \"and\", num_2, \"=\", greater_num)  "
   ]
  },
  {
   "cell_type": "raw",
   "id": "4b6355e4",
   "metadata": {},
   "source": [
    "23) Write a Python program that removes vowels from a string.\n",
    "Following is the code."
   ]
  },
  {
   "cell_type": "code",
   "execution_count": null,
   "id": "3933a396",
   "metadata": {},
   "outputs": [],
   "source": [
    "#Code\n",
    "\n",
    "string = 'Javatpoint'  \n",
    "result=''  \n",
    "for s in string:    \n",
    "if s in ('a', 'e', 'i', 'o', 'u', 'A', 'E', 'I', 'O', 'U'):       \n",
    "s = ''    \n",
    "result += s  \n",
    "print(\"Required string without vowels is:\", result) "
   ]
  },
  {
   "cell_type": "code",
   "execution_count": null,
   "id": "ffa21c3a",
   "metadata": {},
   "outputs": [],
   "source": [
    "#24) Write a Python code to reverse a given list.\n",
    "#Following is the code.\n",
    "\n",
    "array = [23, 12, 5, 24, 23, 76, 86, 24, 86, 24, 75]  \n",
    "  \n",
    "print(\"Reverse order of array is\")  \n",
    "# Reversing the given array  \n",
    "for i in range(len(array)-1, -1, -1):       \n",
    "     \n",
    "print(array[i], end=' ')  "
   ]
  },
  {
   "cell_type": "code",
   "execution_count": null,
   "id": "70632c82",
   "metadata": {},
   "outputs": [],
   "source": [
    "#Q25. Write a program in Python to produce Star triangle.\n",
    "\n",
    "def pyfunc(r):\n",
    "    for x in range(r):\n",
    "        print(' '*(r-x-1)+'*'*(2*x+1))    \n",
    "pyfunc(9)"
   ]
  },
  {
   "cell_type": "code",
   "execution_count": null,
   "id": "4310129a",
   "metadata": {},
   "outputs": [],
   "source": [
    "#Q26. Write a sorting algorithm for a numerical dataset in Python.\n",
    "#Ans: The following code can be used to sort a list in Python:\n",
    "\n",
    "\n",
    "list = [\"1\", \"4\", \"0\", \"6\", \"9\"]\n",
    "list = [int(i) for i in list]\n",
    "list.sort()\n",
    "print (list)"
   ]
  },
  {
   "cell_type": "code",
   "execution_count": null,
   "id": "d43d86e8",
   "metadata": {},
   "outputs": [],
   "source": [
    "#27. Which of the following statements create a dictionary? (Multiple Correct Answers Possible)\n",
    "a) d = {}\n",
    "b) d = {“john”:40, “peter”:45}\n",
    "c) d = {40:”john”, 45:”peter”}\n",
    "d) d = (40:”john”, 45:”50”)\n",
    "Answer: b, c & d. \n",
    "\n",
    "Dictionaries are created by specifying keys and values."
   ]
  },
  {
   "cell_type": "raw",
   "id": "ffb70510",
   "metadata": {},
   "source": [
    "#28. Which one of these is floor division?\n",
    "a) /\n",
    "b) //\n",
    "c) %\n",
    "d) None of the mentioned\n",
    "Answer: b) //"
   ]
  },
  {
   "cell_type": "raw",
   "id": "0523e99b",
   "metadata": {},
   "source": [
    "#29. What is the output of the following?\n",
    "\n",
    "f = None\n",
    " \n",
    "for i in range (5):\n",
    "    with open(\"data.txt\", \"w\") as f:\n",
    "        if (i > 2):\n",
    "            break\n",
    " \n",
    "print f.closed\n",
    "a) True\n",
    "b) False\n",
    "c) None\n",
    "d) Error\n",
    "Answer: a) True"
   ]
  },
  {
   "cell_type": "raw",
   "id": "75d944d3",
   "metadata": {},
   "source": [
    "Python Program to Print Hello world!"
   ]
  },
  {
   "cell_type": "code",
   "execution_count": null,
   "id": "468989c6",
   "metadata": {},
   "outputs": [],
   "source": [
    "#Source Code\n",
    "# This program prints Hello, world!\n",
    "\n",
    "print('Hello, world!')"
   ]
  },
  {
   "cell_type": "code",
   "execution_count": null,
   "id": "5394772b",
   "metadata": {},
   "outputs": [],
   "source": []
  },
  {
   "cell_type": "code",
   "execution_count": null,
   "id": "bacbdc0f",
   "metadata": {},
   "outputs": [],
   "source": []
  }
 ],
 "metadata": {
  "kernelspec": {
   "display_name": "Python 3 (ipykernel)",
   "language": "python",
   "name": "python3"
  },
  "language_info": {
   "codemirror_mode": {
    "name": "ipython",
    "version": 3
   },
   "file_extension": ".py",
   "mimetype": "text/x-python",
   "name": "python",
   "nbconvert_exporter": "python",
   "pygments_lexer": "ipython3",
   "version": "3.9.12"
  }
 },
 "nbformat": 4,
 "nbformat_minor": 5
}
